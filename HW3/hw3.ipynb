{
 "cells": [
  {
   "cell_type": "markdown",
   "metadata": {},
   "source": [
    "Problem 1. The dataset sales.csv contains the daily sales of a product for 1000 days.Visually\n",
    "demonstrate that the daily sales follows a normal distribution.\n",
    "\n",
    "In this problem, you will be fitting a normal distribution to the observed dataset by\n",
    "minimizing the negative log-likelihood function. Using the probability distribution function\n",
    "for a normal distribution 𝑁 (𝜇, 𝜎2)with two parameters: mean 𝜇 and variance 𝜎2, obtain\n",
    "the negative log-likelihood function. Using gradient descent, minimize the negative log-\n",
    "likelihood function to estimate the parameters 𝜇 and 𝜎 that best explain the data."
   ]
  },
  {
   "cell_type": "code",
   "execution_count": 1,
   "metadata": {},
   "outputs": [],
   "source": [
    "import pandas as pd\n",
    "import numpy as np\n",
    "import matplotlib.pyplot as plt\n",
    "from scipy.stats import norm"
   ]
  },
  {
   "cell_type": "code",
   "execution_count": 24,
   "metadata": {},
   "outputs": [
    {
     "data": {
      "text/html": [
       "<div>\n",
       "<style scoped>\n",
       "    .dataframe tbody tr th:only-of-type {\n",
       "        vertical-align: middle;\n",
       "    }\n",
       "\n",
       "    .dataframe tbody tr th {\n",
       "        vertical-align: top;\n",
       "    }\n",
       "\n",
       "    .dataframe thead th {\n",
       "        text-align: right;\n",
       "    }\n",
       "</style>\n",
       "<table border=\"1\" class=\"dataframe\">\n",
       "  <thead>\n",
       "    <tr style=\"text-align: right;\">\n",
       "      <th></th>\n",
       "      <th>DAILY SALES</th>\n",
       "    </tr>\n",
       "  </thead>\n",
       "  <tbody>\n",
       "    <tr>\n",
       "      <th>0</th>\n",
       "      <td>84</td>\n",
       "    </tr>\n",
       "    <tr>\n",
       "      <th>1</th>\n",
       "      <td>86</td>\n",
       "    </tr>\n",
       "    <tr>\n",
       "      <th>2</th>\n",
       "      <td>107</td>\n",
       "    </tr>\n",
       "    <tr>\n",
       "      <th>3</th>\n",
       "      <td>89</td>\n",
       "    </tr>\n",
       "    <tr>\n",
       "      <th>4</th>\n",
       "      <td>89</td>\n",
       "    </tr>\n",
       "  </tbody>\n",
       "</table>\n",
       "</div>"
      ],
      "text/plain": [
       "   DAILY SALES\n",
       "0           84\n",
       "1           86\n",
       "2          107\n",
       "3           89\n",
       "4           89"
      ]
     },
     "execution_count": 24,
     "metadata": {},
     "output_type": "execute_result"
    }
   ],
   "source": [
    "df = pd.read_csv('sales.csv')\n",
    "sales = df[['DAILY SALES']]\n",
    "sales.head()"
   ]
  },
  {
   "cell_type": "code",
   "execution_count": 30,
   "metadata": {},
   "outputs": [
    {
     "data": {
      "text/plain": [
       "DAILY SALES    int64\n",
       "dtype: object"
      ]
     },
     "execution_count": 30,
     "metadata": {},
     "output_type": "execute_result"
    }
   ],
   "source": [
    "#types of columns in the dataframe\n",
    "sales.dtypes"
   ]
  },
  {
   "cell_type": "code",
   "execution_count": 31,
   "metadata": {},
   "outputs": [
    {
     "data": {
      "text/plain": [
       "DAILY SALES    0\n",
       "dtype: int64"
      ]
     },
     "execution_count": 31,
     "metadata": {},
     "output_type": "execute_result"
    }
   ],
   "source": [
    "#null\n",
    "sales.isnull().sum()"
   ]
  },
  {
   "cell_type": "markdown",
   "metadata": {},
   "source": [
    "# Mathematical Formulation\n",
    "-------------------------\n",
    "**Negative Log-Likelihood Function**: \n",
    "\n",
    "The negative log-likelihood function for a normal distribution with mean $\\mu$ and variance $\\sigma^2$ is given by:\n",
    "\n",
    "\n",
    "$$\n",
    "-\\log(L(\\mu, \\sigma^2)) = \\frac{n}{2} \\log(2\\pi\\sigma^2) + \\frac{1}{2\\sigma^2} \\sum_{i=1}^{n} (x_i - \\mu)^2\n",
    "$$\n",
    "\n",
    "where $n$ is the number of observations and $x_i$ are the observed sales.\n",
    "\n",
    "-------------------------\n",
    "**Gradient Descent**: \n",
    "\n",
    "To minimize the negative log-likelihood function, we can use gradient descent, which iteratively updates the parameters $\\mu$ and $\\sigma^2$ in the direction that reduces the negative log-likelihood.\n",
    "\n",
    "The update equations for the parameters using gradient descent are:\n",
    "\n",
    "$$\n",
    "\\mu_{new} = \\mu_{old} - \\alpha \\frac{\\partial}{\\partial \\mu}(-\\log(L(\\mu, \\sigma^2)))\n",
    "$$\n",
    "\n",
    "$$\n",
    "\\sigma^2_{new} = \\sigma^2_{old} - \\alpha \\frac{\\partial}{\\partial \\sigma^2}(-\\log(L(\\mu, \\sigma^2)))\n",
    "$$\n",
    "\n",
    "where $\\alpha$ is the learning rate.\n",
    "\n",
    "The partial derivatives of the negative log-likelihood function with respect to $\\mu$ and $\\sigma^2$ are:\n",
    "\n",
    "$$\n",
    "\\frac{\\partial}{\\partial \\mu}(-\\log(L(\\mu, \\sigma^2))) = -\\frac{1}{\\sigma^2} \\sum_{i=1}^{n} (x_i - \\mu)\n",
    "$$\n",
    "\n",
    "$$\n",
    "\\frac{\\partial}{\\partial \\sigma^2}(-\\log(L(\\mu, \\sigma^2))) = -\\frac{n}{2\\sigma^2} + \\frac{1}{2(\\sigma^2)^2} \\sum_{i=1}^{n} (x_i - \\mu)^2\n",
    "$$\n",
    "\n",
    "By iteratively applying these updates, we can find the values of $\\mu$ and $\\sigma^2$ that minimize the negative log-likelihood, thus fitting the normal distribution to the data."
   ]
  },
  {
   "cell_type": "code",
   "execution_count": 42,
   "metadata": {},
   "outputs": [
    {
     "data": {
      "text/plain": [
       "(array([0.00068182, 0.        , 0.00068182, 0.        , 0.00136364,\n",
       "        0.        , 0.00272727, 0.00136364, 0.00340909, 0.        ,\n",
       "        0.00136364, 0.00409091, 0.00477273, 0.00477273, 0.00409091,\n",
       "        0.01022727, 0.00818182, 0.01636364, 0.01159091, 0.01840909,\n",
       "        0.00886364, 0.02181818, 0.00818182, 0.02795455, 0.01295455,\n",
       "        0.02590909, 0.01840909, 0.03613636, 0.01840909, 0.01636364,\n",
       "        0.02931818, 0.02386364, 0.03818182, 0.01704545, 0.02863636,\n",
       "        0.01704545, 0.03681818, 0.01977273, 0.03136364, 0.015     ,\n",
       "        0.02113636, 0.01431818, 0.01704545, 0.00545455, 0.00681818,\n",
       "        0.01295455, 0.00954545, 0.01159091, 0.00272727, 0.01022727,\n",
       "        0.00477273, 0.00613636, 0.00068182, 0.00340909, 0.00272727,\n",
       "        0.00340909, 0.        , 0.00204545, 0.        , 0.00068182]),\n",
       " array([ 33.        ,  34.46666667,  35.93333333,  37.4       ,\n",
       "         38.86666667,  40.33333333,  41.8       ,  43.26666667,\n",
       "         44.73333333,  46.2       ,  47.66666667,  49.13333333,\n",
       "         50.6       ,  52.06666667,  53.53333333,  55.        ,\n",
       "         56.46666667,  57.93333333,  59.4       ,  60.86666667,\n",
       "         62.33333333,  63.8       ,  65.26666667,  66.73333333,\n",
       "         68.2       ,  69.66666667,  71.13333333,  72.6       ,\n",
       "         74.06666667,  75.53333333,  77.        ,  78.46666667,\n",
       "         79.93333333,  81.4       ,  82.86666667,  84.33333333,\n",
       "         85.8       ,  87.26666667,  88.73333333,  90.2       ,\n",
       "         91.66666667,  93.13333333,  94.6       ,  96.06666667,\n",
       "         97.53333333,  99.        , 100.46666667, 101.93333333,\n",
       "        103.4       , 104.86666667, 106.33333333, 107.8       ,\n",
       "        109.26666667, 110.73333333, 112.2       , 113.66666667,\n",
       "        115.13333333, 116.6       , 118.06666667, 119.53333333,\n",
       "        121.        ]),\n",
       " <BarContainer object of 60 artists>)"
      ]
     },
     "execution_count": 42,
     "metadata": {},
     "output_type": "execute_result"
    },
    {
     "data": {
      "image/png": "[encoded data removed]",
      "text/plain": [
       "<Figure size 640x480 with 1 Axes>"
      ]
     },
     "metadata": {},
     "output_type": "display_data"
    }
   ],
   "source": [
    "#histogram DAILY SALES\n",
    "plt.hist(sales, bins=60, density=True, alpha=0.6, color='r')\n"
   ]
  },
  {
   "cell_type": "code",
   "execution_count": 62,
   "metadata": {},
   "outputs": [],
   "source": [
    "# Negative log-likelihood function\n",
    "def neg_log_likelihood(mu, sigma_sq, data):\n",
    "    n = len(data)\n",
    "    return (n/2)*np.log(2*np.pi*sigma_sq) + (1/(2*sigma_sq))*np.sum((data - mu)**2)\n",
    "\n",
    "# Gradient of the negative log-likelihood function\n",
    "def grad_neg_log_likelihood(mu, sigma_sq, data):\n",
    "    grad_mu = -np.sum(data - mu) / sigma_sq\n",
    "    grad_sigma_sq = -len(data)/(2*sigma_sq) + np.sum((data - mu)**2) / (2*sigma_sq**2)\n",
    "    return grad_mu, grad_sigma_sq\n",
    "\n",
    "# Gradient descent function\n",
    "def gradient_descent(data, initial_mu, initial_sigma_sq, learning_rate, num_iterations):\n",
    "    mu, sigma_sq = initial_mu, initial_sigma_sq\n",
    "    for _ in range(num_iterations):\n",
    "        grad_mu, grad_sigma_sq = grad_neg_log_likelihood(mu, sigma_sq, data)\n",
    "        mu -= learning_rate * grad_mu\n",
    "        sigma_sq -= learning_rate * grad_sigma_sq\n",
    "        # Ensure that variance remains positive\n",
    "        sigma_sq = max(sigma_sq, 1e-6)\n",
    "    return mu, sigma_sq\n",
    "\n",
    "# Extract the data\n",
    "data = sales['DAILY SALES']\n",
    "\n",
    "# Initial parameters\n",
    "initial_mu = 50\n",
    "initial_sigma_sq = 200\n",
    "\n",
    "# Hyperparameters for gradient descent\n",
    "learning_rate = 0.001\n",
    "num_iterations = 5000\n",
    "\n",
    "# Run gradient descent\n",
    "estimated_mu, estimated_sigma_sq = gradient_descent(data, initial_mu, initial_sigma_sq, learning_rate, num_iterations)\n",
    "\n",
    "\n"
   ]
  },
  {
   "cell_type": "code",
   "execution_count": 63,
   "metadata": {},
   "outputs": [
    {
     "name": "stdout",
     "output_type": "stream",
     "text": [
      "data mean: 79.379\n",
      "data variance: 218.453359\n",
      "Estimated mean (mu): 79.3789999996908\n",
      "Estimated variance (sigma^2): 197.63435542062496\n"
     ]
    }
   ],
   "source": [
    "# Print the estimated parameters\n",
    "print(f\"data mean: {np.mean(data)}\")\n",
    "print(f\"data variance: {np.var(data)}\")\n",
    "print(f\"Estimated mean (mu): {estimated_mu}\")\n",
    "print(f\"Estimated variance (sigma^2): {estimated_sigma_sq}\")"
   ]
  },
  {
   "cell_type": "code",
   "execution_count": 64,
   "metadata": {},
   "outputs": [
    {
     "data": {
      "image/png": "[encoded data removed]",
      "text/plain": [
       "<Figure size 640x480 with 1 Axes>"
      ]
     },
     "metadata": {},
     "output_type": "display_data"
    }
   ],
   "source": [
    "#plot the normal distribution\n",
    "x = np.linspace(40, 120, 1000)\n",
    "y = norm.pdf(x, estimated_mu, np.sqrt(estimated_sigma_sq))\n",
    "plt.plot(x, y, 'k', linewidth=2)\n",
    "\n",
    "#plot the histogram\n",
    "plt.hist(sales, bins=60, density=True, alpha=0.6, color='r')\n",
    "plt.show()"
   ]
  },
  {
   "cell_type": "markdown",
   "metadata": {},
   "source": []
  }
 ],
 "metadata": {
  "kernelspec": {
   "display_name": "Python 3",
   "language": "python",
   "name": "python3"
  },
  "language_info": {
   "codemirror_mode": {
    "name": "ipython",
    "version": 3
   },
   "file_extension": ".py",
   "mimetype": "text/x-python",
   "name": "python",
   "nbconvert_exporter": "python",
   "pygments_lexer": "ipython3",
   "version": "3.9.6"
  }
 },
 "nbformat": 4,
 "nbformat_minor": 2
}
